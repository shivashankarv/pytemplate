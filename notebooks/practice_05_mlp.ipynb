{
 "cells": [
  {
   "cell_type": "code",
   "execution_count": null,
   "id": "e42df3f2-9bc6-4d0b-8154-33eb901b660b",
   "metadata": {},
   "outputs": [],
   "source": [
    "import random\n",
    "import torch\n",
    "import torch.nn.functional as F\n",
    "import matplotlib.pyplot as plt\n",
    "%matplotlib inline"
   ]
  },
  {
   "cell_type": "code",
   "execution_count": null,
   "id": "af3b0d85-32d4-4856-aa00-461e605aa3b7",
   "metadata": {},
   "outputs": [],
   "source": [
    "words = open(\"../names.txt\").read().splitlines()\n",
    "chars = sorted(list(set(''.join(words))))\n",
    "stoi = dict([(c, i) for i, c in enumerate(['.']+chars)])\n",
    "itos = dict([(i, c) for c, i in stoi.items()])\n",
    "vocab_size = len(stoi.keys())\n",
    "block_size = 3 # Context length"
   ]
  },
  {
   "cell_type": "code",
   "execution_count": null,
   "id": "9d84e59f-ce52-4dd5-b810-7066c92b873f",
   "metadata": {},
   "outputs": [],
   "source": [
    "# Making X and Y\n",
    "def build_dataset(words):\n",
    "    X, Y = [], []\n",
    "    \n",
    "    for w in words:\n",
    "        context = [0] * 3 # Starting with 3 dots. Default that leads to the first Y token prediction.\n",
    "        \n",
    "        for ch in w + \".\":\n",
    "            ix = stoi[ch]\n",
    "            X.append(context)\n",
    "            Y.append(ix)\n",
    "            #print(\"\".join([itos[i] for i in context]) + \" --> \" + ch)\n",
    "            context = context[1:] + [ix]\n",
    "    \n",
    "    X = torch.tensor(X)\n",
    "    Y = torch.tensor(Y)\n",
    "    return X, Y\n",
    "\n",
    "random.seed = 42\n",
    "random.shuffle(words)\n",
    "n1 = int(0.8*len(words))\n",
    "n2 = int(0.9*len(words))\n",
    "\n",
    "# Train, dev, test\n",
    "Xtr, Ytr = build_dataset(words[:n1])\n",
    "Xdev, Ydev = build_dataset(words[n1:n2])\n",
    "Xtest, Ytest = build_dataset(words[n2:])"
   ]
  },
  {
   "cell_type": "code",
   "execution_count": null,
   "id": "d7b48bb1-0204-41f6-af1e-0c63c66e155b",
   "metadata": {},
   "outputs": [],
   "source": [
    "print(Xtr.shape, Ytr.shape, Xdev.shape, Ydev.shape, Xtest.shape, Ytest.shape)"
   ]
  },
  {
   "cell_type": "code",
   "execution_count": null,
   "id": "f51cb5a5-3460-480f-93b9-0b5d19575b4f",
   "metadata": {},
   "outputs": [],
   "source": [
    "# Building the model\n",
    "emb_dim = 10\n",
    "h_dim = 200\n",
    "\n",
    "g = torch.Generator().manual_seed(2147483647)\n",
    "C = torch.randn((vocab_size, emb_dim), generator=g, requires_grad=True)\n",
    "# Hidden layer\n",
    "W1 = torch.randn((block_size * emb_dim, h_dim), generator=g, requires_grad=True)\n",
    "b1 = torch.randn(h_dim, generator=g, requires_grad=True)\n",
    "# Final layer\n",
    "W2 = torch.randn((h_dim, vocab_size), generator=g, requires_grad=True)\n",
    "b2 = torch.randn(vocab_size, generator=g, requires_grad=True)\n",
    "# parameters\n",
    "params = [C, W1, b1, W2, b2]\n",
    "minibatch = 32"
   ]
  },
  {
   "cell_type": "code",
   "execution_count": null,
   "id": "c29cfff8-7ea4-49a1-a56d-d9fa91deae31",
   "metadata": {},
   "outputs": [],
   "source": [
    "epochs = 200000\n",
    "\n",
    "# track stats\n",
    "stepi = []\n",
    "lossi = []\n",
    "\n",
    "for epoch in range(epochs):\n",
    "    # minibatch\n",
    "    ix = torch.randint(0, Xtr.shape[0], (minibatch, ))\n",
    "    # forward pass\n",
    "    emb = C[Xtr[ix]]\n",
    "    h = torch.tanh(emb.view(-1, block_size * emb_dim) @ W1 + b1)\n",
    "    logits = h @ W2 + b2\n",
    "    loss = F.cross_entropy(logits, Ytr[ix])\n",
    "    stepi.append(epoch)\n",
    "    lossi.append(loss.item())\n",
    "    # backward pass\n",
    "    for p in params:\n",
    "        p.grad = None\n",
    "    loss.backward()\n",
    "    # updates\n",
    "    # lr decay\n",
    "    lr = 0.1 if epoch < 100000 else 0.01\n",
    "    for p in params:\n",
    "        p.data += -lr * p.grad"
   ]
  },
  {
   "cell_type": "code",
   "execution_count": null,
   "id": "e05a04cd-3cb3-425d-a26c-820068580e6f",
   "metadata": {},
   "outputs": [],
   "source": [
    "emb = C[Xtr]\n",
    "h = torch.tanh(emb.view(-1, block_size * emb_dim) @ W1 + b1)\n",
    "logits = h @ W2 + b2\n",
    "loss = F.cross_entropy(logits, Ytr)\n",
    "print(loss.item())"
   ]
  },
  {
   "cell_type": "code",
   "execution_count": null,
   "id": "3bd8108e-1d26-4104-a268-e3a95cd4060a",
   "metadata": {},
   "outputs": [],
   "source": [
    "emb = C[Xdev]\n",
    "h = torch.tanh(emb.view(-1, block_size * emb_dim) @ W1 + b1)\n",
    "logits = h @ W2 + b2\n",
    "loss = F.cross_entropy(logits, Ydev)\n",
    "print(loss.item())"
   ]
  },
  {
   "cell_type": "code",
   "execution_count": null,
   "id": "36fe4d9d-7b9a-41f5-acf8-13ecc7e7107d",
   "metadata": {},
   "outputs": [],
   "source": [
    "emb = C[Xtest]\n",
    "h = torch.tanh(emb.view(-1, block_size * emb_dim) @ W1 + b1)\n",
    "logits = h @ W2 + b2\n",
    "loss = F.cross_entropy(logits, Ytest)\n",
    "print(loss.item())"
   ]
  },
  {
   "cell_type": "code",
   "execution_count": null,
   "id": "922f452a-2c85-45ec-9e0e-00098ceaada1",
   "metadata": {},
   "outputs": [],
   "source": [
    "plt.plot(stepi, lossi)"
   ]
  },
  {
   "cell_type": "code",
   "execution_count": null,
   "id": "3e569a80-7318-4560-9929-4276d4d4257d",
   "metadata": {},
   "outputs": [],
   "source": []
  }
 ],
 "metadata": {
  "kernelspec": {
   "display_name": "toynn",
   "language": "python",
   "name": "toynn"
  },
  "language_info": {
   "codemirror_mode": {
    "name": "ipython",
    "version": 3
   },
   "file_extension": ".py",
   "mimetype": "text/x-python",
   "name": "python",
   "nbconvert_exporter": "python",
   "pygments_lexer": "ipython3",
   "version": "3.11.7"
  }
 },
 "nbformat": 4,
 "nbformat_minor": 5
}
