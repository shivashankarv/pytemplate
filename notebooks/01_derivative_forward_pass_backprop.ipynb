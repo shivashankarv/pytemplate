{
 "cells": [
  {
   "cell_type": "code",
   "execution_count": null,
   "id": "ba83c841-1fcd-4d02-ab64-0c4c62a779e2",
   "metadata": {},
   "outputs": [],
   "source": [
    "import math\n",
    "import numpy as np\n",
    "import matplotlib.pyplot as plt\n",
    "from graphviz import Digraph\n",
    "%matplotlib inline"
   ]
  },
  {
   "cell_type": "markdown",
   "id": "8f6b18f8-647e-495c-b25c-44c40c25074e",
   "metadata": {},
   "source": [
    "# What is a derivative?"
   ]
  },
  {
   "cell_type": "code",
   "execution_count": null,
   "id": "94f53017-17c9-4eed-bfcb-c9c921d94d7f",
   "metadata": {},
   "outputs": [],
   "source": [
    "# Let's define a simple quadratic function\n",
    "\n",
    "def f(x):\n",
    "    return 3*x**2 - 4*x + 5"
   ]
  },
  {
   "cell_type": "code",
   "execution_count": null,
   "id": "31df009d-1363-4328-b3bb-2bdac2c47fa7",
   "metadata": {},
   "outputs": [],
   "source": [
    "xs = np.arange(-5, 5, 0.25)\n",
    "plt.plot(xs, f(xs))"
   ]
  },
  {
   "cell_type": "markdown",
   "id": "0140fa65-bc3e-4244-b23e-bcccfb389b27",
   "metadata": {},
   "source": [
    "Intuitively a derivative tells you how `f(x)` is going to change, proportionally, when you change `x`.\n",
    "\n",
    "More formally:\n",
    "\n",
    "when you increase `x` by a really small value `h`, how does it affect `f(x)`'s value\n",
    "\n",
    "Formal definition:\n",
    "      #Todo: learn how to write formulae in markdown"
   ]
  },
  {
   "cell_type": "code",
   "execution_count": null,
   "id": "063a5ed0-e66a-4598-b4cc-47bf009dc0ea",
   "metadata": {},
   "outputs": [],
   "source": [
    "# Differentiating f(x) with respect to x, we know f'(x) = 6x - 4\n",
    "# TODO: write an ipywidget where you can input values of h and x and get values of f(x) and f'(x).\n",
    "\n",
    "h = 0.00000001\n",
    "x = 3.0\n",
    "slope = (f(x + h) - f(x))/h\n",
    "\n",
    "print(f\"x={x}\\nh={h}\\nslope={slope}\\ntheoretical slope:{6*x -4}\")"
   ]
  },
  {
   "cell_type": "code",
   "execution_count": null,
   "id": "b94f6476-5d88-45f7-bf19-63df9c38a3c3",
   "metadata": {},
   "outputs": [],
   "source": [
    "# Differentiating f(x) with respect to x, we know f'(x) = 6x - 4\n",
    "# TODO: write an ipywidget where you can input values of h and x and get values of f(x) and f'(x).\n",
    "\n",
    "h = 0.00000001\n",
    "x = -3.0\n",
    "slope = (f(x + h) - f(x))/h\n",
    "\n",
    "print(f\"x={x}\\nh={h}\\nslope={slope}\\ntheoretical slope:{6*x -4}\")"
   ]
  },
  {
   "cell_type": "code",
   "execution_count": null,
   "id": "96c7cc4e-7c2b-49af-aff7-d7437bdb91a6",
   "metadata": {},
   "outputs": [],
   "source": [
    "# Differentiating f(x) with respect to x, we know f'(x) = 6x - 4\n",
    "# TODO: write an ipywidget where you can input values of h and x and get values of f(x) and f'(x).\n",
    "\n",
    "h = 0.00000001\n",
    "x = 2/3\n",
    "slope = (f(x + h) - f(x))/h\n",
    "\n",
    "print(f\"x={x}\\nh={h}\\nslope={slope}\\ntheoretical slope:{6*x -4}\")"
   ]
  },
  {
   "cell_type": "markdown",
   "id": "9d9775a7-16c0-4621-9a7a-e5b245858fb2",
   "metadata": {},
   "source": [
    "# Partial derivatives"
   ]
  },
  {
   "cell_type": "code",
   "execution_count": null,
   "id": "3c2f7537-2369-40b3-9e34-df679fb01d3b",
   "metadata": {},
   "outputs": [],
   "source": [
    "# wrt `a`\n",
    "a = 2.0\n",
    "b = -3.0\n",
    "c = 10.0\n",
    "\n",
    "d1 = a*b + c\n",
    "a += h\n",
    "d2 = a*b + c\n",
    "\n",
    "print(f\"a={a}\\nb={b}\\nc={c}\\nh={h}\\nd1={d1}\\nd2={d2}\\nslope={(d2-d1)/h}\\ntheoretical slope:{b}\")"
   ]
  },
  {
   "cell_type": "code",
   "execution_count": null,
   "id": "aeec969b-af0a-47d8-bccd-4525481ff343",
   "metadata": {},
   "outputs": [],
   "source": [
    "# wrt `b`\n",
    "a = 2.0\n",
    "b = -3.0\n",
    "c = 10.0\n",
    "\n",
    "d1 = a*b + c\n",
    "b += h\n",
    "d2 = a*b + c\n",
    "\n",
    "print(f\"a={a}\\nb={b}\\nc={c}\\nh={h}\\nd1={d1}\\nd2={d2}\\nslope={(d2-d1)/h}\\ntheoretical slope:{b}\")"
   ]
  },
  {
   "cell_type": "code",
   "execution_count": null,
   "id": "c41ed538-9bd4-4708-884c-b8c4a00fb540",
   "metadata": {},
   "outputs": [],
   "source": [
    "# wrt `c`\n",
    "a = 2.0\n",
    "b = -3.0\n",
    "c = 10.0\n",
    "\n",
    "d1 = a*b + c\n",
    "c += h\n",
    "d2 = a*b + c\n",
    "\n",
    "print(f\"a={a}\\nb={b}\\nc={c}\\nh={h}\\nd1={d1}\\nd2={d2}\\nslope={(d2-d1)/h}\\ntheoretical slope:{b}\")"
   ]
  },
  {
   "cell_type": "markdown",
   "id": "02dbfe3e-369b-4cbb-b888-5b47f7150e25",
   "metadata": {},
   "source": [
    "#### Neural Networks require to keep track of how varying a, b, c affects d viz. f(a,b,c)\n",
    "So writing a few data structures to store this."
   ]
  },
  {
   "cell_type": "markdown",
   "id": "e72e80d5-47eb-4bdd-93c5-465660c253fc",
   "metadata": {},
   "source": [
    "# Understanding forward and back propogation"
   ]
  },
  {
   "cell_type": "code",
   "execution_count": null,
   "id": "fd926f46-1350-4cf7-9ee5-1dae53c4a223",
   "metadata": {},
   "outputs": [],
   "source": [
    "# Defining a Value class to do math functions and store representations.\n",
    "class Value:\n",
    "    def __init__(self, data, _children=(), _op=\"\", label=\"\"):\n",
    "        \"\"\"\n",
    "        param data: Stores the value\n",
    "        param _children: Stores the values that gave rise to self.data\n",
    "        param _op: Math operation between children that produced self.data\n",
    "        \"\"\"\n",
    "        self.data = data\n",
    "        self._prev = set(_children)\n",
    "        self.grad = 0.0\n",
    "        self._op = _op\n",
    "        self.label = label\n",
    "        \n",
    "    def __repr__(self):\n",
    "        return f\"Value=({self.data})\"\n",
    "        \n",
    "    def __add__(self, other):\n",
    "        out = Value(self.data + other.data, (self, other), \"+\")\n",
    "        return out\n",
    "        \n",
    "    def __mul__(self, other):\n",
    "        out = Value(self.data * other.data, (self, other), \"*\")\n",
    "        return out"
   ]
  },
  {
   "cell_type": "code",
   "execution_count": null,
   "id": "d53afd42-e266-4819-9a57-a209acf7b66d",
   "metadata": {},
   "outputs": [],
   "source": [
    "# Rewriting the expression above with this datatype\n",
    "h = 0.001\n",
    "a = Value(2.0, label=\"a\")\n",
    "b = Value(-3.0, label=\"b\")\n",
    "c = Value(10.0, label=\"c\")\n",
    "e = a * b; e.label = \"e\"\n",
    "d = e + c; d.label = \"d\"\n",
    "f = Value(-2.0, label=\"f\")\n",
    "L = d * f; L.label = \"L\""
   ]
  },
  {
   "cell_type": "code",
   "execution_count": null,
   "id": "9de679db-9eea-45d1-9fa7-c0dfc3dfe108",
   "metadata": {},
   "outputs": [],
   "source": [
    "# Manually updating "
   ]
  },
  {
   "cell_type": "code",
   "execution_count": null,
   "id": "e56d8a30-d233-462a-9f25-8066738e17ee",
   "metadata": {},
   "outputs": [],
   "source": [
    "def trace(root):\n",
    "  # builds a set of all nodes and edges in a graph\n",
    "  nodes, edges = set(), set()\n",
    "  def build(v):\n",
    "    if v not in nodes:\n",
    "      nodes.add(v)\n",
    "      for child in v._prev:\n",
    "        edges.add((child, v))\n",
    "        build(child)\n",
    "  build(root)\n",
    "  return nodes, edges\n",
    "\n",
    "def draw_dot(root):\n",
    "  dot = Digraph(format='svg', graph_attr={'rankdir': 'LR'}) # LR = left to right\n",
    "  \n",
    "  nodes, edges = trace(root)\n",
    "  for n in nodes:\n",
    "    uid = str(id(n))\n",
    "    # for any value in the graph, create a rectangular ('record') node for it\n",
    "    dot.node(name = uid, label = \"{ %s | data %.4f | grad %.4f }\" % (n.label, n.data, n.grad), shape='record')\n",
    "    if n._op:\n",
    "      # if this value is a result of some operation, create an op node for it\n",
    "      dot.node(name = uid + n._op, label = n._op)\n",
    "      # and connect this node to it\n",
    "      dot.edge(uid + n._op, uid)\n",
    "\n",
    "  for n1, n2 in edges:\n",
    "    # connect n1 to the op node of n2\n",
    "    dot.edge(str(id(n1)), str(id(n2)) + n2._op)\n",
    "\n",
    "  return dot"
   ]
  },
  {
   "cell_type": "code",
   "execution_count": null,
   "id": "71e71495-322d-4f5a-804e-ee9935f60f5d",
   "metadata": {},
   "outputs": [],
   "source": [
    "def lol():\n",
    "    # Rewriting the expression above with this datatype\n",
    "    h = 0.0001\n",
    "    \n",
    "    a = Value(2.0, label=\"a\")\n",
    "    b = Value(-3.0, label=\"b\")\n",
    "    c = Value(10.0, label=\"c\")\n",
    "    e = a * b; e.label = \"e\"\n",
    "    d = e + c; d.label = \"d\"\n",
    "    f = Value(-2.0, label=\"f\")\n",
    "    L = d * f; L.label = \"L\"\n",
    "    L1 = L.data\n",
    "\n",
    "    a = Value(2.0, label=\"a\")\n",
    "    b = Value(-3.0 + h, label=\"b\")\n",
    "    c = Value(10.0, label=\"c\")\n",
    "    e = a * b; e.label = \"e\"\n",
    "    d = e + c; d.label = \"d\"\n",
    "    f = Value(-2.0, label=\"f\")\n",
    "    L = d * f; L.label = \"L\"\n",
    "    L2 = L.data\n",
    "    print((L2 - L1)/h)\n",
    "\n",
    "lol()"
   ]
  },
  {
   "cell_type": "markdown",
   "id": "32ca4d89-93f7-42c9-9f47-88d53da37d92",
   "metadata": {},
   "source": [
    "L = d * f; d = e + c; e = a * b\n",
    "\n",
    "How does changing all these variables incrementally change L's value?"
   ]
  },
  {
   "cell_type": "code",
   "execution_count": null,
   "id": "7ca165d9-e7db-47da-93be-6c3f0e1ac463",
   "metadata": {},
   "outputs": [],
   "source": [
    "L.grad = 1.0\n",
    "f.grad = 4.0\n",
    "d.grad = -2.0\n",
    "c.grad = -2.0\n",
    "e.grad = -2.0\n",
    "b.grad = -4.0\n",
    "a.grad = 6.0\n",
    "draw_dot(L)"
   ]
  },
  {
   "cell_type": "code",
   "execution_count": null,
   "id": "fb4b4b09-ed38-42e3-8ee0-5f4e1eb6d530",
   "metadata": {},
   "outputs": [],
   "source": [
    "# Nudging all the source values in the direction of the gradient should increase the value of L.\n",
    "\n",
    "step = 0.01\n",
    "a.data += step * a.grad\n",
    "b.data += step * b.grad\n",
    "c.data += step * c.grad\n",
    "f.data += step * f.grad\n",
    "\n",
    "e = a * b\n",
    "d = e + c\n",
    "L = d * f\n",
    "\n",
    "print(L.data)"
   ]
  }
 ],
 "metadata": {
  "kernelspec": {
   "display_name": "toynn",
   "language": "python",
   "name": "toynn"
  },
  "language_info": {
   "codemirror_mode": {
    "name": "ipython",
    "version": 3
   },
   "file_extension": ".py",
   "mimetype": "text/x-python",
   "name": "python",
   "nbconvert_exporter": "python",
   "pygments_lexer": "ipython3",
   "version": "3.11.7"
  }
 },
 "nbformat": 4,
 "nbformat_minor": 5
}
