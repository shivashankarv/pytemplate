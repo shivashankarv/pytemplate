{
 "cells": [
  {
   "cell_type": "markdown",
   "id": "e937996e-e927-4e43-80bd-29555ecaf5c7",
   "metadata": {},
   "source": [
    "# MLP Language Model\n",
    "__Bengio et. al.__\n",
    "\n",
    "* Longer contexts i.e. 3-gram, 4-gram etc. result in the word matrix `N` to blow-up in size and dimensions.\n",
    "* Take a token-embedding instead - swapping out the sparse representation for a dense one.\n",
    "* This embedding matrix `C` will be of dimension (vocabulary) X (dimension size)\n",
    "    * `dimension size` is a hyperparameter."
   ]
  },
  {
   "cell_type": "code",
   "execution_count": null,
   "id": "d2d27ccb-24d7-44ae-8b91-de0db89ddd79",
   "metadata": {},
   "outputs": [],
   "source": [
    "import torch\n",
    "import torch.nn.functional as F\n",
    "import matplotlib.pyplot as plt\n",
    "%matplotlib inline"
   ]
  },
  {
   "cell_type": "code",
   "execution_count": null,
   "id": "6725b8b9-e4bf-4a4d-a9a0-17c8821b7ab2",
   "metadata": {},
   "outputs": [],
   "source": [
    "words = open(\"../names.txt\").read().splitlines()\n",
    "chars = sorted(list(set(''.join(words))))\n",
    "stoi = dict([(c, i) for i, c in enumerate(['.']+chars)])\n",
    "itos = dict([(i, c) for c, i in stoi.items()])\n",
    "vocab_size = len(stoi.keys())"
   ]
  },
  {
   "cell_type": "markdown",
   "id": "59deca2e-4fdd-420c-bf5d-bd351aa81470",
   "metadata": {},
   "source": [
    "# Architecture\n",
    "* 3-gram context\n",
    "* Hyperparameters - embedding dim size, hidden layer dim"
   ]
  },
  {
   "cell_type": "code",
   "execution_count": null,
   "id": "3609cf19-50a2-4b99-adf4-0aa460cc59bc",
   "metadata": {},
   "outputs": [],
   "source": [
    "block_size = 3\n",
    "def build_dataset(words, block_size=3):\n",
    "    # Constructing the input matrix\n",
    "    X, Y = [],[]\n",
    "    \n",
    "    for w in words:\n",
    "        context = [0] * block_size\n",
    "        for ch in w + \".\":\n",
    "            ix = stoi[ch]\n",
    "            X.append(context)\n",
    "            Y.append(ix)\n",
    "            #print(\"\".join([itos[i] for i in context]) + \" ---> \" + ch)\n",
    "            context = context[1:] + [ix]\n",
    "    X = torch.tensor(X)\n",
    "    Y = torch.tensor(Y)\n",
    "    return X, Y\n",
    "\n",
    "import random\n",
    "random.seed(42)\n",
    "random.shuffle(words)\n",
    "n1 = int(0.8*len(words))\n",
    "n2 = int(0.9*len(words))\n",
    "\n",
    "Xtr, Ytr = build_dataset(words[:n1])\n",
    "Xdev, Ydev = build_dataset(words[n1:n2])\n",
    "Xtest, Ytest = build_dataset(words[n2:])"
   ]
  },
  {
   "cell_type": "code",
   "execution_count": null,
   "id": "93fbbb60-f55e-4d09-b81a-caf2c3f823bf",
   "metadata": {},
   "outputs": [],
   "source": [
    "Xtr.shape, Ytr.shape, Xdev.shape, Ydev.shape, Xtest.shape, Ytest.shape"
   ]
  },
  {
   "cell_type": "code",
   "execution_count": null,
   "id": "123646f2-4cf4-4ac3-bcd3-c24c2c25614e",
   "metadata": {},
   "outputs": [],
   "source": [
    "# Embedding matrix\n",
    "emb_dim = 10\n",
    "hidden_dim = 200\n",
    "\n",
    "g = torch.Generator().manual_seed(2147483647)\n",
    "C = torch.randn(vocab_size, emb_dim, generator=g, requires_grad=True)\n",
    "W1 = torch.randn((block_size * emb_dim, hidden_dim), generator=g, requires_grad=True)\n",
    "b1 = torch.randn(hidden_dim, generator=g, requires_grad=True)\n",
    "W2 = torch.randn((hidden_dim, vocab_size), generator=g, requires_grad=True)\n",
    "b2 = torch.randn(vocab_size, generator=g, requires_grad=True)\n",
    "parameters = [C, W1, b1, W2, b2]\n",
    "# Decay lr array\n",
    "#lre = torch.linspace(-3, 0, epochs)\n",
    "#lrs = 10**lre\n",
    "\n",
    "lri = []\n",
    "lossi = []\n",
    "stepi = []\n",
    "\n",
    "minibatch_size = 32"
   ]
  },
  {
   "cell_type": "code",
   "execution_count": null,
   "id": "80498c72-a887-4f8c-92f9-416f59b3b913",
   "metadata": {},
   "outputs": [],
   "source": [
    "sum(p.nelement() for p in parameters)"
   ]
  },
  {
   "cell_type": "code",
   "execution_count": null,
   "id": "75798491-9b88-4b92-a031-ffd640d3a533",
   "metadata": {},
   "outputs": [],
   "source": [
    "epochs = 40000\n",
    "lr = 0.01\n",
    "for epoch in range(epochs):\n",
    "    ix = torch.randint(0, Xtr.shape[0], (32,))\n",
    "    \n",
    "    # Forward pass\n",
    "    emb = C[Xtr[ix]]\n",
    "    h = torch.tanh(emb.view(-1, block_size * emb_dim) @ W1 + b1)\n",
    "    logits = h @ W2 + b2\n",
    "    loss = F.cross_entropy(logits, Ytr[ix])\n",
    "    \n",
    "    # Backward pass\n",
    "    for p in parameters:\n",
    "        p.grad = None\n",
    "    loss.backward()\n",
    "    \n",
    "    # Update weights\n",
    "    #lr = lrs[epoch]\n",
    "    #lr = 0.1 if epoch < 100000 else 0.01\n",
    "    for p in parameters:\n",
    "        p.data += -lr * p.grad\n",
    "\n",
    "    # track stats\n",
    "    stepi.append(epoch)\n",
    "    lossi.append(loss.log10().item())\n",
    "\n",
    "print(loss.item())"
   ]
  },
  {
   "cell_type": "code",
   "execution_count": null,
   "id": "3b584a05-2713-4d75-bb0e-b033f18ec9db",
   "metadata": {},
   "outputs": [],
   "source": [
    "emb = C[Xtr]\n",
    "h = torch.tanh(emb.view(-1, block_size * emb_dim) @ W1 + b1)\n",
    "logits = h @ W2 + b2\n",
    "loss = F.cross_entropy(logits, Ytr)\n",
    "print(f\"{loss.item()=}\")"
   ]
  },
  {
   "cell_type": "code",
   "execution_count": null,
   "id": "44f518cd-6782-485a-aa0a-484622d5d477",
   "metadata": {},
   "outputs": [],
   "source": [
    "emb = C[Xdev]\n",
    "h = torch.tanh(emb.view(-1, block_size * emb_dim) @ W1 + b1)\n",
    "logits = h @ W2 + b2\n",
    "devloss = F.cross_entropy(logits, Ydev)\n",
    "print(f\"{devloss.item()=}\")"
   ]
  },
  {
   "cell_type": "code",
   "execution_count": null,
   "id": "88f02c9e-116c-491e-b03a-00fbf2567e7d",
   "metadata": {},
   "outputs": [],
   "source": [
    "emb = C[Xtest]\n",
    "h = torch.tanh(emb.view(-1, block_size * emb_dim) @ W1 + b1)\n",
    "logits = h @ W2 + b2\n",
    "devloss = F.cross_entropy(logits, Ytest)\n",
    "print(f\"{devloss.item()=}\")"
   ]
  },
  {
   "cell_type": "code",
   "execution_count": null,
   "id": "a0a3fb7b-4d27-4ad0-9c1e-56e1f78d37e1",
   "metadata": {},
   "outputs": [],
   "source": [
    "plt.plot(stepi, lossi)"
   ]
  },
  {
   "cell_type": "code",
   "execution_count": null,
   "id": "81d68b9e-c1cd-4e4d-a923-6d7234d71ef4",
   "metadata": {},
   "outputs": [],
   "source": [
    "plt.plot(lre, lossi)\n",
    "# -1.0 is where it minimizes so this is a good learning rate."
   ]
  },
  {
   "cell_type": "code",
   "execution_count": null,
   "id": "26bd1654-a9bd-4bcd-8403-bccd4e828299",
   "metadata": {},
   "outputs": [],
   "source": [
    "# visualize dimensions 0 and 1 of the embedding matrix C for all characters\n",
    "plt.figure(figsize=(8,8))\n",
    "plt.scatter(C[:,0].data, C[:,1].data, s=200)\n",
    "for i in range(C.shape[0]):\n",
    "    plt.text(C[i,0].item(), C[i,1].item(), itos[i], ha=\"center\", va=\"center\", color='white')\n",
    "plt.grid('minor')"
   ]
  },
  {
   "cell_type": "code",
   "execution_count": null,
   "id": "6d74c38b-9ed0-4426-9515-32e58aa5289c",
   "metadata": {},
   "outputs": [],
   "source": [
    "\t\n",
    "# sample from the model\n",
    "g = torch.Generator().manual_seed(2147483647 + 10)\n",
    "\n",
    "for _ in range(20):\n",
    "    \n",
    "    out = []\n",
    "    context = [0] * block_size # initialize with all ...\n",
    "    while True:\n",
    "      emb = C[torch.tensor([context])] # (1,block_size,d)\n",
    "      h = torch.tanh(emb.view(1, -1) @ W1 + b1)\n",
    "      logits = h @ W2 + b2\n",
    "      probs = F.softmax(logits, dim=1)\n",
    "      ix = torch.multinomial(probs, num_samples=1, generator=g).item()\n",
    "      context = context[1:] + [ix]\n",
    "      out.append(ix)\n",
    "      if ix == 0:\n",
    "        break\n",
    "    \n",
    "    print(''.join(itos[i] for i in out))"
   ]
  },
  {
   "cell_type": "code",
   "execution_count": null,
   "id": "7a762cee-7f24-470f-bf02-cec794661b43",
   "metadata": {},
   "outputs": [],
   "source": []
  }
 ],
 "metadata": {
  "kernelspec": {
   "display_name": "toynn",
   "language": "python",
   "name": "toynn"
  },
  "language_info": {
   "codemirror_mode": {
    "name": "ipython",
    "version": 3
   },
   "file_extension": ".py",
   "mimetype": "text/x-python",
   "name": "python",
   "nbconvert_exporter": "python",
   "pygments_lexer": "ipython3",
   "version": "3.11.7"
  }
 },
 "nbformat": 4,
 "nbformat_minor": 5
}
