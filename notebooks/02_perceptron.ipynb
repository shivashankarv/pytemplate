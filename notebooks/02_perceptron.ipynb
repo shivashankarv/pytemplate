{
 "cells": [
  {
   "cell_type": "code",
   "execution_count": null,
   "id": "5a3f3260-bef3-411e-8dd3-5eb8ccb33805",
   "metadata": {},
   "outputs": [],
   "source": [
    "import math\n",
    "import numpy as np\n",
    "import matplotlib.pyplot as plt\n",
    "from graphviz import Digraph\n",
    "%matplotlib inline"
   ]
  },
  {
   "cell_type": "markdown",
   "id": "15cf568a-e946-455f-b59b-672c98551f3c",
   "metadata": {},
   "source": [
    "# Biological Neuron\n",
    "Impulses come from the dendrites through the cell body and this is transformed to a response\n",
    "\n",
    "![neuron](img/neuron.png)"
   ]
  },
  {
   "cell_type": "markdown",
   "id": "ee230057-3afb-4119-bb19-a8966fecb6e7",
   "metadata": {},
   "source": [
    "# Perceptron\n",
    "A perceptron tries to model a biological neuron where x(i)=dendrite\n",
    "The cell body sums and transforms the input into a response using an activation function like `tanh` or `relu`.\n",
    "\n",
    "![perceptron](img/perceptron.jpeg)\n",
    "\n",
    "# Objective\n",
    "Can we write a perceptron from scratch?"
   ]
  },
  {
   "cell_type": "code",
   "execution_count": null,
   "id": "336bead9-1466-4d92-be0f-277b4462bf62",
   "metadata": {},
   "outputs": [],
   "source": [
    "# Squishes any range of inputs between -1, 1\n",
    "plt.plot(np.arange(-5,5,0.2), np.tanh(np.arange(-5,5,0.2)))\n",
    "plt.grid()"
   ]
  },
  {
   "cell_type": "code",
   "execution_count": null,
   "id": "e5958297-bd98-4a14-904b-44debe7b4306",
   "metadata": {},
   "outputs": [],
   "source": [
    "def trace(root):\n",
    "  # builds a set of all nodes and edges in a graph\n",
    "  nodes, edges = set(), set()\n",
    "  def build(v):\n",
    "    if v not in nodes:\n",
    "      nodes.add(v)\n",
    "      for child in v._prev:\n",
    "        edges.add((child, v))\n",
    "        build(child)\n",
    "  build(root)\n",
    "  return nodes, edges\n",
    "\n",
    "def draw_dot(root):\n",
    "  dot = Digraph(format='svg', graph_attr={'rankdir': 'LR'}) # LR = left to right\n",
    "  \n",
    "  nodes, edges = trace(root)\n",
    "  for n in nodes:\n",
    "    uid = str(id(n))\n",
    "    # for any value in the graph, create a rectangular ('record') node for it\n",
    "    dot.node(name = uid, label = \"{ %s | data %.4f | grad %.4f }\" % (n.label, n.data, n.grad), shape='record')\n",
    "    if n._op:\n",
    "      # if this value is a result of some operation, create an op node for it\n",
    "      dot.node(name = uid + n._op, label = n._op)\n",
    "      # and connect this node to it\n",
    "      dot.edge(uid + n._op, uid)\n",
    "\n",
    "  for n1, n2 in edges:\n",
    "    # connect n1 to the op node of n2\n",
    "    dot.edge(str(id(n1)), str(id(n2)) + n2._op)\n",
    "\n",
    "  return dot"
   ]
  },
  {
   "cell_type": "code",
   "execution_count": null,
   "id": "359bbdfd-d0c3-4dad-98c5-66d5c42a14d7",
   "metadata": {},
   "outputs": [],
   "source": [
    "# Defining a Value class to do math functions and store representations.\n",
    "class Value_manual:\n",
    "    def __init__(self, data, _children=(), _op=\"\", label=\"\"):\n",
    "        \"\"\"\n",
    "        param data: Stores the value\n",
    "        param _children: Stores the values that gave rise to self.data\n",
    "        param _op: Math operation between children that produced self.data\n",
    "        \"\"\"\n",
    "        self.data = data\n",
    "        self._prev = set(_children)\n",
    "        self.grad = 0.0\n",
    "        self._op = _op\n",
    "        self.label = label\n",
    "        \n",
    "    def __repr__(self):\n",
    "        return f\"Value=({self.data})\"\n",
    "        \n",
    "    def __add__(self, other):\n",
    "        out = Value_manual(self.data + other.data, (self, other), _op=\"+\")\n",
    "        return out\n",
    "        \n",
    "    def __mul__(self, other):\n",
    "        out = Value_manual(self.data * other.data, (self, other), _op=\"*\")\n",
    "        return out\n",
    "\n",
    "    def tanh(self):\n",
    "        x = self.data\n",
    "        t = (math.exp(2 * x) - 1)/(math.exp(2 * x) + 1)\n",
    "        out = Value_manual(data=t, _children=(self,), _op=\"tanh\")\n",
    "        return out"
   ]
  },
  {
   "cell_type": "code",
   "execution_count": null,
   "id": "1898b333-3fb4-479f-8853-3bae52c7f56c",
   "metadata": {},
   "outputs": [],
   "source": [
    "# Defining a 2 input neuron\n",
    "x1 = Value_manual(2.0, label=\"x1\")\n",
    "w1 = Value_manual(-3.0, label=\"w1\")\n",
    "x2 = Value_manual(0.0, label=\"x2\")\n",
    "w2 = Value_manual(1.0, label=\"w2\")\n",
    "x1w1 = x1 * w1; x1w1.label=\"x1w1\"\n",
    "x2w2 = x2 * w2; x2w2.label=\"x2w2\"\n",
    "x1w1x2w2 = x1w1 + x2w2; x1w1x2w2.label=\"x1w1x2w2\"\n",
    "b = Value_manual(6.8813735870195432, label=\"b\")\n",
    "n = x1w1x2w2 + b; n.label=\"n\"\n",
    "o = n.tanh(); o.label=\"o\""
   ]
  },
  {
   "cell_type": "code",
   "execution_count": null,
   "id": "701213a9-0b9b-46b9-ae49-a011a951613f",
   "metadata": {},
   "outputs": [],
   "source": [
    "# Manual backprop\n",
    "o.grad = 1.0\n",
    "# do/dn = 1 - tanh(n)**2\n",
    "n.grad = 1 - o.data**2\n",
    "b.grad = n.grad\n",
    "x1w1x2w2.grad = n.grad\n",
    "x1w1.grad = x1w1x2w2.grad\n",
    "x2w2.grad = x1w1x2w2.grad\n",
    "w1.grad = x1.data * x1w1.grad\n",
    "x1.grad = w1.data * x1w1.grad\n",
    "w2.grad = x2.data * x1w1.grad\n",
    "x2.grad = w2.data * x1w1.grad"
   ]
  },
  {
   "cell_type": "code",
   "execution_count": null,
   "id": "09abed24-d60f-42dc-9d4b-f46927a3252c",
   "metadata": {},
   "outputs": [],
   "source": [
    "draw_dot(o)"
   ]
  },
  {
   "cell_type": "markdown",
   "id": "bd1b5923-cd67-43cb-b303-3e7e59b1037c",
   "metadata": {},
   "source": [
    "# Rewriting `Value` to do automatic backpropogation"
   ]
  },
  {
   "cell_type": "code",
   "execution_count": null,
   "id": "367d0647-cf76-4885-b788-a25dc900db44",
   "metadata": {},
   "outputs": [],
   "source": [
    "# Defining a Value class to do math functions and store representations.\n",
    "class Value_semi_manual:\n",
    "    def __init__(self, data, _children=(), _op=\"\", label=\"\"):\n",
    "        \"\"\"\n",
    "        param data: Stores the value\n",
    "        param _children: Stores the values that gave rise to self.data\n",
    "        param _op: Math operation between children that produced self.data\n",
    "        \"\"\"\n",
    "        self.data = data\n",
    "        self._prev = set(_children)\n",
    "        self.grad = 0.0\n",
    "        # Every operation will have its own backprop.\n",
    "        self._backward = lambda: None\n",
    "        self._op = _op\n",
    "        self.label = label\n",
    "        \n",
    "    def __repr__(self):\n",
    "        return f\"Value=({self.data})\"\n",
    "        \n",
    "    def __add__(self, other):\n",
    "        out = Value_semi_manual(self.data + other.data, (self, other), _op=\"+\")\n",
    "        # chaining the current `.grad` based on the out.grad value.\n",
    "        # This is the reason why we initiate o.grad = 1.\n",
    "        # That chains `out.grad` `_backward`s through all the `_ops` and `Value`s.\n",
    "        def _backward():\n",
    "            self.grad = 1 * out.grad\n",
    "            other.grad = 1 * out.grad            \n",
    "        out._backward = _backward\n",
    "        \n",
    "        return out\n",
    "        \n",
    "    def __mul__(self, other):\n",
    "        out = Value_semi_manual(self.data * other.data, (self, other), _op=\"*\")\n",
    "        \n",
    "        def _backward():\n",
    "            self.grad = other.data * out.grad\n",
    "            other.grad = self.data * out.grad\n",
    "        out._backward = _backward\n",
    "        \n",
    "        return out\n",
    "\n",
    "    def tanh(self):\n",
    "        x = self.data\n",
    "        t = (math.exp(2 * x) - 1)/(math.exp(2 * x) + 1)\n",
    "        out = Value_semi_manual(t, (self,), \"tanh\")\n",
    "\n",
    "        def _backward():\n",
    "            self.grad = (1 - t**2) * out.grad\n",
    "        out._backward = _backward\n",
    "        \n",
    "        return out"
   ]
  },
  {
   "cell_type": "code",
   "execution_count": null,
   "id": "0513b607-4382-4706-b2cd-368ed2cbd0c3",
   "metadata": {},
   "outputs": [],
   "source": [
    "# Defining a 2 input neuron\n",
    "x1 = Value_semi_manual(2.0, label=\"x1\")\n",
    "w1 = Value_semi_manual(-3.0, label=\"w1\")\n",
    "x2 = Value_semi_manual(0.0, label=\"x2\")\n",
    "w2 = Value_semi_manual(1.0, label=\"w2\")\n",
    "b = Value_semi_manual(6.8813735870195432, label=\"b\")\n",
    "x1w1 = x1 * w1; x1w1.label=\"x1w1\"\n",
    "x2w2 = x2 * w2; x2w2.label=\"x2w2\"\n",
    "x1w1x2w2 = x1w1 + x2w2; x1w1x2w2.label=\"x1w1x2w2\"\n",
    "n = x1w1x2w2 + b; n.label=\"n\"\n",
    "o = n.tanh(); o.label=\"o\""
   ]
  },
  {
   "cell_type": "code",
   "execution_count": null,
   "id": "c53c405b-e336-4f85-8e9f-bfc0786af416",
   "metadata": {},
   "outputs": [],
   "source": [
    "# Backprop with the _backward() methods\n",
    "o.grad = 1.0\n",
    "o._backward()\n",
    "n._backward()\n",
    "x1w1x2w2._backward()\n",
    "x1w1._backward()\n",
    "x2w2._backward()"
   ]
  },
  {
   "cell_type": "code",
   "execution_count": null,
   "id": "f2afc47d-17da-4b93-bbdb-a70d3c82570b",
   "metadata": {},
   "outputs": [],
   "source": [
    "draw_dot(o)"
   ]
  },
  {
   "cell_type": "code",
   "execution_count": null,
   "id": "65caeb77-6718-4a7d-86eb-c3969be5beed",
   "metadata": {},
   "outputs": [],
   "source": [
    "# Defining a Value class to do math functions and store representations.\n",
    "class Value:\n",
    "    def __init__(self, data, _children=(), _op=\"\", label=\"\"):\n",
    "        \"\"\"\n",
    "        param data: Stores the value\n",
    "        param _children: Stores the values that gave rise to self.data\n",
    "        param _op: Math operation between children that produced self.data\n",
    "        \"\"\"\n",
    "        self.data = data\n",
    "        self._prev = set(_children)\n",
    "        self.grad = 0.0\n",
    "        # Every operation will have its own backprop.\n",
    "        self._backward = lambda: None\n",
    "        self._op = _op\n",
    "        self.label = label\n",
    "        \n",
    "    def __repr__(self):\n",
    "        return f\"Value=({self.data})\"\n",
    "        \n",
    "    def __add__(self, other):\n",
    "        out = Value(self.data + other.data, (self, other), _op=\"+\")\n",
    "        # chaining the current `.grad` based on the out.grad value.\n",
    "        # This is the reason why we initiate o.grad = 1.\n",
    "        # That chains `out.grad` `_backward`s through all the `_ops` and `Value`s.\n",
    "        def _backward():\n",
    "            self.grad += 1 * out.grad\n",
    "            other.grad += 1 * out.grad            \n",
    "        out._backward = _backward\n",
    "        \n",
    "        return out\n",
    "        \n",
    "    def __mul__(self, other):\n",
    "        out = Value(self.data * other.data, (self, other), _op=\"*\")\n",
    "        \n",
    "        def _backward():\n",
    "            self.grad += other.data * out.grad\n",
    "            other.grad += self.data * out.grad\n",
    "        out._backward = _backward\n",
    "        \n",
    "        return out\n",
    "\n",
    "    def tanh(self):\n",
    "        x = self.data\n",
    "        t = (math.exp(2 * x) - 1)/(math.exp(2 * x) + 1)\n",
    "        out = Value(t, (self,), \"tanh\")\n",
    "\n",
    "        def _backward():\n",
    "            self.grad += (1 - t**2) * out.grad\n",
    "        out._backward = _backward\n",
    "        \n",
    "        return out\n",
    "\n",
    "    def backward(self):\n",
    "        # Automating the manual _backward() calls using topological sort.\n",
    "        # Sort the DAG such that o is last.\n",
    "        # Call _backward on the queue.\n",
    "        topo = []\n",
    "        visited = set()\n",
    "        def build_topo(v):\n",
    "          if v not in visited:\n",
    "            visited.add(v)\n",
    "            for child in v._prev:\n",
    "              build_topo(child)\n",
    "            topo.append(v)\n",
    "        build_topo(self)\n",
    "        self.grad = 1.0        \n",
    "        for node in reversed(topo):\n",
    "            node._backward()"
   ]
  },
  {
   "cell_type": "code",
   "execution_count": null,
   "id": "c48443f7-292c-4caa-bc35-c92d4c2a7239",
   "metadata": {},
   "outputs": [],
   "source": [
    "# Defining a 2 input neuron\n",
    "x1 = Value(2.0, label=\"x1\")\n",
    "w1 = Value(-3.0, label=\"w1\")\n",
    "x2 = Value(0.0, label=\"x2\")\n",
    "w2 = Value(1.0, label=\"w2\")\n",
    "b = Value(6.8813735870195432, label=\"b\")\n",
    "x1w1 = x1 * w1; x1w1.label=\"x1w1\"\n",
    "x2w2 = x2 * w2; x2w2.label=\"x2w2\"\n",
    "x1w1x2w2 = x1w1 + x2w2; x1w1x2w2.label=\"x1w1x2w2\"\n",
    "n = x1w1x2w2 + b; n.label=\"n\"\n",
    "o = n.tanh(); o.label=\"o\""
   ]
  },
  {
   "cell_type": "raw",
   "id": "29ef7037-91aa-4ae4-9961-31967a92c3db",
   "metadata": {},
   "source": [
    "# Automating the manual _backward() calls using topological sort.\n",
    "o.grad = 1.0\n",
    "# Sort the DAG above such that o is last.\n",
    "# Call _backward on the queue.\n",
    "topo = []\n",
    "visited = set()\n",
    "def build_topo(v):\n",
    "  if v not in visited:\n",
    "    visited.add(v)\n",
    "    for child in v._prev:\n",
    "      build_topo(child)\n",
    "    topo.append(v)\n",
    "build_topo(o)\n",
    "\n",
    "for node in reversed(topo):\n",
    "    node._backward()"
   ]
  },
  {
   "cell_type": "code",
   "execution_count": null,
   "id": "d1591372-0ca2-48b2-b3e7-31ccd9464ae5",
   "metadata": {},
   "outputs": [],
   "source": [
    "draw_dot(o)"
   ]
  },
  {
   "cell_type": "code",
   "execution_count": null,
   "id": "82c771d2-1bc7-4dae-8e06-f2c332a689ee",
   "metadata": {},
   "outputs": [],
   "source": [
    "o.backward() #voila!"
   ]
  },
  {
   "cell_type": "markdown",
   "id": "bdeb19e9-27bd-43a4-9db1-7a4b6c1ef052",
   "metadata": {},
   "source": [
    "In the case of repeat variables we want to accumulate gradients in the `Value` class.\n",
    "\n",
    "So changing `self.grad = ... * out.grad` to `self.grad += ... * out.grad`"
   ]
  },
  {
   "cell_type": "code",
   "execution_count": null,
   "id": "49157660-6148-4bfa-9d25-99348c3335fa",
   "metadata": {},
   "outputs": [],
   "source": [
    "# Without doing the += in the cell above this will give the wrong gradient for `a`\n",
    "a = Value(3, label=\"a\")\n",
    "b = a + a; b.label = \"b\"\n",
    "b.backward()\n",
    "draw_dot(b)"
   ]
  }
 ],
 "metadata": {
  "kernelspec": {
   "display_name": "toynn",
   "language": "python",
   "name": "toynn"
  },
  "language_info": {
   "codemirror_mode": {
    "name": "ipython",
    "version": 3
   },
   "file_extension": ".py",
   "mimetype": "text/x-python",
   "name": "python",
   "nbconvert_exporter": "python",
   "pygments_lexer": "ipython3",
   "version": "3.11.7"
  }
 },
 "nbformat": 4,
 "nbformat_minor": 5
}
